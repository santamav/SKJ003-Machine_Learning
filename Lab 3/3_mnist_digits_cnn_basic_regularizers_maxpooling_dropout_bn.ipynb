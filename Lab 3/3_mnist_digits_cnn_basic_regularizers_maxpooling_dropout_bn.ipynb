{
  "nbformat": 4,
  "nbformat_minor": 0,
  "metadata": {
    "colab": {
      "provenance": []
    },
    "kernelspec": {
      "name": "python3",
      "display_name": "Python 3"
    },
    "accelerator": "GPU"
  },
  "cells": [
    {
      "cell_type": "code",
      "metadata": {
        "id": "icukqSyaVWHo"
      },
      "source": [
        "from tensorflow import keras\n",
        "from tensorflow.keras.datasets import mnist\n",
        "from tensorflow.keras.models import Sequential\n",
        "from tensorflow.keras.layers import Dense, Conv2D, Flatten, MaxPooling2D, Activation, BatchNormalization, Dropout\n",
        "# from tensorflow.keras.regularizers import l2\n",
        "from tensorflow.keras.optimizers import SGD"
      ],
      "execution_count": 7,
      "outputs": []
    },
    {
      "cell_type": "code",
      "metadata": {
        "id": "J57hr5FyeyEf"
      },
      "source": [
        "# lectura de los datos\n",
        "(val_X, val_Y), (train_X, train_Y) = mnist.load_data()"
      ],
      "execution_count": 8,
      "outputs": []
    },
    {
      "cell_type": "code",
      "metadata": {
        "id": "ICr1ntGae84H"
      },
      "source": [
        "# pre-procesamiento de los datos\n",
        "\n",
        "train_X = train_X.reshape(train_X.shape[0],28,28,1)\n",
        "val_X = val_X.reshape(val_X.shape[0],28,28,1)\n",
        "train_X = train_X.astype('float32')\n",
        "val_X = val_X.astype('float32')\n",
        "\n",
        "# normalizar datos de [0..255] a [0..1]\n",
        "train_X /= 255\n",
        "val_X /= 255\n",
        "\n",
        "# convierte etiqueta de clase en \"one-hot vectors\" [0,0,1,0,...]\n",
        "num_classes = 10\n",
        "train_Y = keras.utils.to_categorical(train_Y, num_classes)\n",
        "val_Y = keras.utils.to_categorical(val_Y, num_classes)"
      ],
      "execution_count": 9,
      "outputs": []
    },
    {
      "cell_type": "markdown",
      "metadata": {
        "id": "pO7QMvVHm6ND"
      },
      "source": [
        "**Efectos visibles de técnicas de regularización**\n",
        "* BatchNormalization + MaxPolling(2,2) + Dropout(0.25) tras Flatten y Dense(100)"
      ]
    },
    {
      "cell_type": "code",
      "metadata": {
        "id": "ZlaphM-Ke3sf",
        "colab": {
          "base_uri": "https://localhost:8080/"
        },
        "outputId": "2151d806-583c-472e-a57d-e23a1617f4bf"
      },
      "source": [
        "# modelo: capa entrada + 20 conv 5x5 + 40 conv 5x5 + densa(100) + capa densa salida (10)\n",
        "\n",
        "model = Sequential()\n",
        "\n",
        "model.add(Conv2D(20, (5, 5), input_shape=(28,28,1)))\n",
        "model.add(BatchNormalization())\n",
        "model.add(Activation('relu'))\n",
        "model.add(MaxPooling2D(pool_size=(2, 2)))\n",
        "\n",
        "model.add(Conv2D(40, (5, 5)))\n",
        "model.add(BatchNormalization())\n",
        "model.add(Activation('relu'))\n",
        "model.add(MaxPooling2D(pool_size=(2, 2)))\n",
        "\n",
        "model.add(Flatten())\n",
        "model.add(Dropout(0.25))\n",
        "model.add(Dense(100, activation='relu'))\n",
        "model.add(BatchNormalization())\n",
        "model.add(Dropout(0.25))\n",
        "model.add(Dense(10, activation='softmax'))\n",
        "\n",
        "# imprime resumen del modelo\n",
        "model.summary()"
      ],
      "execution_count": 10,
      "outputs": [
        {
          "output_type": "stream",
          "name": "stdout",
          "text": [
            "Model: \"sequential_1\"\n",
            "_________________________________________________________________\n",
            " Layer (type)                Output Shape              Param #   \n",
            "=================================================================\n",
            " conv2d_2 (Conv2D)           (None, 24, 24, 20)        520       \n",
            "                                                                 \n",
            " batch_normalization_2 (Bat  (None, 24, 24, 20)        80        \n",
            " chNormalization)                                                \n",
            "                                                                 \n",
            " activation_2 (Activation)   (None, 24, 24, 20)        0         \n",
            "                                                                 \n",
            " max_pooling2d_2 (MaxPoolin  (None, 12, 12, 20)        0         \n",
            " g2D)                                                            \n",
            "                                                                 \n",
            " conv2d_3 (Conv2D)           (None, 8, 8, 40)          20040     \n",
            "                                                                 \n",
            " batch_normalization_3 (Bat  (None, 8, 8, 40)          160       \n",
            " chNormalization)                                                \n",
            "                                                                 \n",
            " activation_3 (Activation)   (None, 8, 8, 40)          0         \n",
            "                                                                 \n",
            " max_pooling2d_3 (MaxPoolin  (None, 4, 4, 40)          0         \n",
            " g2D)                                                            \n",
            "                                                                 \n",
            " flatten_1 (Flatten)         (None, 640)               0         \n",
            "                                                                 \n",
            " dropout_2 (Dropout)         (None, 640)               0         \n",
            "                                                                 \n",
            " dense_2 (Dense)             (None, 100)               64100     \n",
            "                                                                 \n",
            " batch_normalization_4 (Bat  (None, 100)               400       \n",
            " chNormalization)                                                \n",
            "                                                                 \n",
            " dropout_3 (Dropout)         (None, 100)               0         \n",
            "                                                                 \n",
            " dense_3 (Dense)             (None, 10)                1010      \n",
            "                                                                 \n",
            "=================================================================\n",
            "Total params: 86310 (337.15 KB)\n",
            "Trainable params: 85990 (335.90 KB)\n",
            "Non-trainable params: 320 (1.25 KB)\n",
            "_________________________________________________________________\n"
          ]
        }
      ]
    },
    {
      "cell_type": "code",
      "metadata": {
        "id": "7j6FrIENpuNc",
        "colab": {
          "base_uri": "https://localhost:8080/"
        },
        "outputId": "e69fe1f4-ae54-4f71-c370-f476c2f04447"
      },
      "source": [
        "# hiperparámetros del proceso de entrenamiento\n",
        "batch_size = 100\n",
        "epochs = 20\n",
        "\n",
        "# optimizador (actualización de pesos)\n",
        "opt=SGD(learning_rate=0.05, momentum=0.9)\n",
        "\n",
        "# configuración del proceso de entrenamiento\n",
        "model.compile(loss='categorical_crossentropy', optimizer=opt, metrics=['accuracy'])\n",
        "\n",
        "# entrenamiento del modelo\n",
        "history = model.fit(train_X, train_Y, batch_size=batch_size, epochs=epochs, verbose=1, validation_data=(val_X, val_Y))"
      ],
      "execution_count": 11,
      "outputs": [
        {
          "output_type": "stream",
          "name": "stdout",
          "text": [
            "Epoch 1/20\n",
            "100/100 [==============================] - 7s 38ms/step - loss: 0.3923 - accuracy: 0.8771 - val_loss: 0.1777 - val_accuracy: 0.9467\n",
            "Epoch 2/20\n",
            "100/100 [==============================] - 3s 31ms/step - loss: 0.1266 - accuracy: 0.9596 - val_loss: 0.1353 - val_accuracy: 0.9599\n",
            "Epoch 3/20\n",
            "100/100 [==============================] - 2s 21ms/step - loss: 0.0857 - accuracy: 0.9713 - val_loss: 0.1301 - val_accuracy: 0.9602\n",
            "Epoch 4/20\n",
            "100/100 [==============================] - 2s 23ms/step - loss: 0.0687 - accuracy: 0.9772 - val_loss: 0.0962 - val_accuracy: 0.9714\n",
            "Epoch 5/20\n",
            "100/100 [==============================] - 2s 23ms/step - loss: 0.0539 - accuracy: 0.9822 - val_loss: 0.1279 - val_accuracy: 0.9632\n",
            "Epoch 6/20\n",
            "100/100 [==============================] - 3s 31ms/step - loss: 0.0457 - accuracy: 0.9848 - val_loss: 0.0663 - val_accuracy: 0.9797\n",
            "Epoch 7/20\n",
            "100/100 [==============================] - 3s 31ms/step - loss: 0.0413 - accuracy: 0.9856 - val_loss: 0.0858 - val_accuracy: 0.9747\n",
            "Epoch 8/20\n",
            "100/100 [==============================] - 2s 21ms/step - loss: 0.0334 - accuracy: 0.9882 - val_loss: 0.0709 - val_accuracy: 0.9794\n",
            "Epoch 9/20\n",
            "100/100 [==============================] - 2s 24ms/step - loss: 0.0290 - accuracy: 0.9907 - val_loss: 0.0954 - val_accuracy: 0.9728\n",
            "Epoch 10/20\n",
            "100/100 [==============================] - 3s 26ms/step - loss: 0.0249 - accuracy: 0.9913 - val_loss: 0.0883 - val_accuracy: 0.9751\n",
            "Epoch 11/20\n",
            "100/100 [==============================] - 3s 31ms/step - loss: 0.0226 - accuracy: 0.9923 - val_loss: 0.0663 - val_accuracy: 0.9812\n",
            "Epoch 12/20\n",
            "100/100 [==============================] - 2s 21ms/step - loss: 0.0241 - accuracy: 0.9914 - val_loss: 0.0728 - val_accuracy: 0.9794\n",
            "Epoch 13/20\n",
            "100/100 [==============================] - 3s 32ms/step - loss: 0.0196 - accuracy: 0.9933 - val_loss: 0.0657 - val_accuracy: 0.9814\n",
            "Epoch 14/20\n",
            "100/100 [==============================] - 2s 24ms/step - loss: 0.0181 - accuracy: 0.9938 - val_loss: 0.0569 - val_accuracy: 0.9838\n",
            "Epoch 15/20\n",
            "100/100 [==============================] - 3s 33ms/step - loss: 0.0165 - accuracy: 0.9952 - val_loss: 0.0732 - val_accuracy: 0.9796\n",
            "Epoch 16/20\n",
            "100/100 [==============================] - 3s 31ms/step - loss: 0.0175 - accuracy: 0.9940 - val_loss: 0.0577 - val_accuracy: 0.9840\n",
            "Epoch 17/20\n",
            "100/100 [==============================] - 2s 20ms/step - loss: 0.0146 - accuracy: 0.9956 - val_loss: 0.0623 - val_accuracy: 0.9824\n",
            "Epoch 18/20\n",
            "100/100 [==============================] - 3s 31ms/step - loss: 0.0139 - accuracy: 0.9947 - val_loss: 0.0552 - val_accuracy: 0.9849\n",
            "Epoch 19/20\n",
            "100/100 [==============================] - 2s 24ms/step - loss: 0.0159 - accuracy: 0.9944 - val_loss: 0.0610 - val_accuracy: 0.9843\n",
            "Epoch 20/20\n",
            "100/100 [==============================] - 3s 31ms/step - loss: 0.0100 - accuracy: 0.9966 - val_loss: 0.0620 - val_accuracy: 0.9843\n"
          ]
        }
      ]
    },
    {
      "cell_type": "code",
      "metadata": {
        "id": "CnRhJk2evRnq",
        "colab": {
          "base_uri": "https://localhost:8080/"
        },
        "outputId": "e5500dea-4202-44a9-c13a-5f89a846f511"
      },
      "source": [
        "# resultados sobre entrenamiento\n",
        "train_results = model.evaluate(train_X, train_Y, verbose=0)\n",
        "print('Error (loss) sobre datos de entrenamiento: {:.4f}'.format(train_results[0]))\n",
        "print('Tasa de éxito de clasificación (accuracy) sobre datos de entrenamiento: {:.4f}\\n'.format(train_results[1]))\n",
        "\n",
        "# resultados sobre validación\n",
        "val_results = model.evaluate(val_X, val_Y, verbose=0)\n",
        "print('Error (loss) sobre datos de VALIDACIÓN: {0:.4f}'.format(val_results[0]))\n",
        "print('Tasa de éxito de clasificación (accuracy) sobre datos de VALIDACIÓN: {0:.4f}\\n'.format(val_results[1]))"
      ],
      "execution_count": 12,
      "outputs": [
        {
          "output_type": "stream",
          "name": "stdout",
          "text": [
            "Error (loss) sobre datos de entrenamiento: 0.0013\n",
            "Tasa de éxito de clasificación (accuracy) sobre datos de entrenamiento: 0.9998\n",
            "\n",
            "Error (loss) sobre datos de VALIDACIÓN: 0.0620\n",
            "Tasa de éxito de clasificación (accuracy) sobre datos de VALIDACIÓN: 0.9843\n",
            "\n"
          ]
        }
      ]
    }
  ]
}