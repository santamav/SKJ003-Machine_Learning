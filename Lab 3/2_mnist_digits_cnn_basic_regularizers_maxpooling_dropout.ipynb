{
  "nbformat": 4,
  "nbformat_minor": 0,
  "metadata": {
    "colab": {
      "name": "mnist_cnn_pro_basic_regularizers_tf.ipynb",
      "provenance": [],
      "collapsed_sections": []
    },
    "kernelspec": {
      "name": "python3",
      "display_name": "Python 3"
    },
    "accelerator": "GPU"
  },
  "cells": [
    {
      "cell_type": "code",
      "metadata": {
        "id": "icukqSyaVWHo",
        "colab_type": "code",
        "colab": {}
      },
      "source": [
        "from tensorflow import keras\n",
        "from tensorflow.keras.datasets import mnist\n",
        "from tensorflow.keras.models import Sequential\n",
        "from tensorflow.keras.layers import Dense, Conv2D, Flatten, MaxPooling2D, Dropout\n",
        "# from tensorflow.keras.regularizers import l2\n",
        "from tensorflow.keras.optimizers import SGD"
      ],
      "execution_count": 0,
      "outputs": []
    },
    {
      "cell_type": "code",
      "metadata": {
        "id": "J57hr5FyeyEf",
        "colab_type": "code",
        "colab": {}
      },
      "source": [
        "# lectura de los datos\n",
        "(val_X, val_Y), (train_X, train_Y) = mnist.load_data()"
      ],
      "execution_count": 0,
      "outputs": []
    },
    {
      "cell_type": "code",
      "metadata": {
        "id": "ICr1ntGae84H",
        "colab_type": "code",
        "colab": {}
      },
      "source": [
        "# pre-procesamiento de los datos\n",
        "\n",
        "train_X = train_X.reshape(train_X.shape[0],28,28,1)\n",
        "val_X = val_X.reshape(val_X.shape[0],28,28,1)\n",
        "train_X = train_X.astype('float32')\n",
        "val_X = val_X.astype('float32')\n",
        "\n",
        "# normalizar datos de [0..255] a [0..1]\n",
        "train_X /= 255\n",
        "val_X /= 255\n",
        "\n",
        "# convierte etiqueta de clase en \"one-hot vectors\" [0,0,1,0,...]\n",
        "num_classes = 10\n",
        "train_Y = keras.utils.to_categorical(train_Y, num_classes)\n",
        "val_Y = keras.utils.to_categorical(val_Y, num_classes)"
      ],
      "execution_count": 0,
      "outputs": []
    },
    {
      "cell_type": "markdown",
      "metadata": {
        "id": "pO7QMvVHm6ND",
        "colab_type": "text"
      },
      "source": [
        "**Efectos visibles de técnicas de regularización**\n",
        "* Sólo Dropout: p=0.5 tras Flatten + p=0.25 tras Dense(100)\n",
        "* Sólo MaxPooling: (2,2) tras cada capa Conv2D\n",
        "* Dropot + MaxPolling: (2,2) tras cada capa Conv2D + p=0.25 tras Flatten y Dense(100)"
      ]
    },
    {
      "cell_type": "code",
      "metadata": {
        "id": "ZlaphM-Ke3sf",
        "colab_type": "code",
        "colab": {}
      },
      "source": [
        "# modelo: capa entrada + 20 conv 5x5 + 40 conv 5x5 + densa(100) + capa densa salida (10)\n",
        "\n",
        "model = Sequential()\n",
        "\n",
        "model.add(Conv2D(20, kernel_size=5, activation='relu', input_shape=(28,28,1))) \n",
        "model.add(MaxPooling2D(pool_size=(2, 2)))\n",
        "\n",
        "model.add(Conv2D(40, kernel_size=5, activation='relu'))\n",
        "model.add(MaxPooling2D(pool_size=(2, 2)))\n",
        "\n",
        "model.add(Flatten())\n",
        "model.add(Dropout(0.25))\n",
        "model.add(Dense(100, activation='relu'))\n",
        "model.add(Dropout(0.25))\n",
        "model.add(Dense(10, activation='softmax'))\n",
        "\n",
        "# imprime resumen del modelo\n",
        "model.summary()"
      ],
      "execution_count": 0,
      "outputs": []
    },
    {
      "cell_type": "code",
      "metadata": {
        "id": "7j6FrIENpuNc",
        "colab_type": "code",
        "colab": {}
      },
      "source": [
        "# hiperparámetros del proceso de entrenamiento\n",
        "batch_size = 100\n",
        "epochs = 20\n",
        "\n",
        "# optimizador (actualización de pesos)\n",
        "opt=SGD(lr=0.05, decay=1e-6, momentum=0.9)\n",
        "\n",
        "# configuración del proceso de entrenamiento\n",
        "model.compile(loss='categorical_crossentropy', optimizer=opt, metrics=['accuracy'])\n",
        "\n",
        "# entrenamiento del modelo\n",
        "history = model.fit(train_X, train_Y, batch_size=batch_size, epochs=epochs, verbose=1, validation_data=(val_X, val_Y))"
      ],
      "execution_count": 0,
      "outputs": []
    },
    {
      "cell_type": "code",
      "metadata": {
        "id": "CnRhJk2evRnq",
        "colab_type": "code",
        "colab": {}
      },
      "source": [
        "# resultados sobre entrenamiento\n",
        "train_results = model.evaluate(train_X, train_Y, verbose=0)\n",
        "print('Error (loss) sobre datos de entrenamiento: {:.4f}'.format(train_results[0]))\n",
        "print('Tasa de éxito de clasificación (accuracy) sobre datos de entrenamiento: {:.4f}\\n'.format(train_results[1]))\n",
        "\n",
        "# resultados sobre validación\n",
        "val_results = model.evaluate(val_X, val_Y, verbose=0)\n",
        "print('Error (loss) sobre datos de VALIDACIÓN: {0:.4f}'.format(val_results[0]))\n",
        "print('Tasa de éxito de clasificación (accuracy) sobre datos de VALIDACIÓN: {0:.4f}\\n'.format(val_results[1]))"
      ],
      "execution_count": 0,
      "outputs": []
    }
  ]
}